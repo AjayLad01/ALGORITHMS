{
  "cells": [
    {
      "cell_type": "markdown",
      "metadata": {
        "id": "QKRiH97lXSiz"
      },
      "source": [
        "**QUICKSORT** **ALGORITHM**"
      ]
    },
    {
      "cell_type": "markdown",
      "metadata": {
        "id": "XcJgftOiXFB6"
      },
      "source": [
        "Write a program for implementation of Quicksort."
      ]
    },
    {
      "cell_type": "code",
      "execution_count": 3,
      "metadata": {
        "colab": {
          "base_uri": "https://localhost:8080/"
        },
        "id": "_PXqNNISWuXD",
        "outputId": "02245323-71a5-474c-8ccb-9daf6b2b3abb"
      },
      "outputs": [
        {
          "name": "stdout",
          "output_type": "stream",
          "text": [
            "The array after Quicksort: [5, 11, 43, 111, 83, 542, 655, 767, 980]\n"
          ]
        }
      ],
      "source": [
        "def partition(start, end, array):\n",
        "\tpivot_index = start\n",
        "\tpivot = array[pivot_index]\n",
        "\twhile start < end:\n",
        "\t\t\n",
        "\t\twhile start < len(array) and array[start] <= pivot:\n",
        "\t\t\tstart += 1\n",
        "\t\n",
        "\t\twhile array[end] > pivot:\n",
        "\t\t\tend -= 1\n",
        "\t\t\n",
        "\t\tif(start < end):\n",
        "\t\t\tarray[start], array[end] = array[end], array[start]\n",
        "\t\n",
        "\t\t    array[end], array[pivot_index] = array[pivot_index], array[end]\n",
        "\t\n",
        "\treturn end\n",
        "\t\n",
        "def quick_sort(start, end, array):\n",
        "\t\n",
        "\tif (start < end):\n",
        "\t\tp = partition(start, end, array)\n",
        "\n",
        "\t\tquick_sort(start, p - 1, array)\n",
        "\t\tquick_sort(p + 1, end, array)\n",
        "\t\t\n",
        "array = [ 43,83,111,5,980,11,767,542,655 ]\n",
        "quick_sort(0, len(array) - 1, array)\n",
        "\n",
        "print(f'The array after Quicksort: {array}')\n",
        "\t"
      ]
    }
  ],
  "metadata": {
    "colab": {
      "name": "Untitled0.ipynb",
      "provenance": []
    },
    "kernelspec": {
      "display_name": "Python 3",
      "name": "python3"
    },
    "language_info": {
      "name": "python"
    }
  },
  "nbformat": 4,
  "nbformat_minor": 0
}
