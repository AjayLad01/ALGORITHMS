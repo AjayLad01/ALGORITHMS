{
  "cells": [
    {
      "cell_type": "markdown",
      "metadata": {
        "id": "NMER0dbfhkeu"
      },
      "source": [
        "**MAXIMUM SUBARRAY PROBLEM**"
      ]
    },
    {
      "cell_type": "markdown",
      "metadata": {
        "id": "AhAqPimDhoUd"
      },
      "source": [
        "Write a program for implementation of Maximum Subarray problem"
      ]
    },
    {
      "cell_type": "code",
      "execution_count": null,
      "metadata": {
        "colab": {
          "base_uri": "https://localhost:8080/"
        },
        "id": "VbSfcHn0bXEX",
        "outputId": "34d53ed4-eaf4-4985-87d6-112136ae7f71"
      },
      "outputs": [
        {
          "name": "stdout",
          "output_type": "stream",
          "text": [
            "The sum of contiguous sublist with the largest sum is 177\n"
          ]
        }
      ],
      "source": [
        "import sys\n",
        "\n",
        "def MaxArray(arr):\n",
        "\tmax_so_far = -sys.maxsize\n",
        "\tmax_ending_here = 0\n",
        "\n",
        "\tfor i in range(len(arr)):\n",
        "\t\t\n",
        "\t\tmax_ending_here = max_ending_here + arr[i]\n",
        "\t\tmax_ending_here = max(max_ending_here, arr[i])\n",
        "\t\tmax_so_far = max(max_so_far, max_ending_here)\n",
        "\n",
        "\treturn max_so_far\n",
        "\n",
        "if __name__ == '__main__':\n",
        "\n",
        "\tarr = [45,67,-23,88,-90,24,12]\n",
        "\tprint('The sum of contiguous sublist with the largest sum is ', MaxArray(arr))\n"
      ]
    }
  ],
  "metadata": {
    "colab": {
      "name": "Maximum subarray.ipyb",
      "provenance": []
    },
    "kernelspec": {
      "display_name": "Python 3",
      "name": "python3"
    },
    "language_info": {
      "name": "python",
      "version": "3.10.0"
    }
  },
  "nbformat": 4,
  "nbformat_minor": 0
}
